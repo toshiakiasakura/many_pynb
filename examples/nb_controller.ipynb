{
 "cells": [
  {
   "cell_type": "markdown",
   "id": "99e6c0ed",
   "metadata": {},
   "source": [
    "# Create config files. "
   ]
  },
  {
   "cell_type": "code",
   "execution_count": 1,
   "id": "bc32071c",
   "metadata": {},
   "outputs": [],
   "source": [
    "import os\n",
    "import glob\n",
    "import json\n",
    "import many_pynb"
   ]
  },
  {
   "cell_type": "code",
   "execution_count": 2,
   "id": "4269e4e8",
   "metadata": {},
   "outputs": [
    {
     "name": "stdout",
     "output_type": "stream",
     "text": [
      "0.1.5\n"
     ]
    }
   ],
   "source": [
    "print(many_pynb.__version__)"
   ]
  },
  {
   "cell_type": "code",
   "execution_count": 3,
   "id": "dab2cf11",
   "metadata": {},
   "outputs": [],
   "source": [
    "unya = \"(」・ω・)」うー!(/・ω・)/にゃー!\"\n",
    "configs = []\n",
    "for i in range(5):\n",
    "    config = {}\n",
    "    config[\"title\"] = f\"<h1>Settings {i}</h1>\"\n",
    "    config[\"text\"] = unya + unya*(i*i*i)\n",
    "    if i < 2:\n",
    "        config[\"plot\"] = True\n",
    "    else:\n",
    "        config[\"plot\"] = False\n",
    "    configs.append(config)\n",
    "   "
   ]
  },
  {
   "cell_type": "code",
   "execution_count": 4,
   "id": "5bbaf5d9",
   "metadata": {},
   "outputs": [],
   "source": [
    "if not os.path.exists(\"./configs\"):\n",
    "    os.mkdir(\"./configs\")\n",
    "for i in range(5):\n",
    "    with open(f\"./configs/config{i}.json\", \"w\" ) as f:\n",
    "        json.dump(configs[i], f)"
   ]
  },
  {
   "cell_type": "markdown",
   "id": "4dcf75b8",
   "metadata": {},
   "source": [
    "# Run many_pynb "
   ]
  },
  {
   "cell_type": "code",
   "execution_count": 5,
   "id": "62ec6f6e",
   "metadata": {},
   "outputs": [],
   "source": [
    "config_paths = sorted(glob.glob(\"./configs/*\"))\n",
    "target_file = \"./nb_output.ipynb\""
   ]
  },
  {
   "cell_type": "code",
   "execution_count": 6,
   "id": "7fad7180",
   "metadata": {},
   "outputs": [
    {
     "name": "stdout",
     "output_type": "stream",
     "text": [
      "# many_pynb settings\n",
      "- target file : nb_output.ipynb\n",
      "- config files :\n",
      "    ./configs/config0.json\n",
      "    ./configs/config1.json\n",
      "    ./configs/config2.json\n",
      "    ./configs/config3.json\n",
      "    ./configs/config4.json\n",
      "- output files:\n",
      "    ./many_pynb_output/nb_output_0.html\n",
      "    ./many_pynb_output/nb_output_1.html\n",
      "    ./many_pynb_output/nb_output_2.html\n",
      "    ./many_pynb_output/nb_output_3.html\n",
      "    ./many_pynb_output/nb_output_4.html\n"
     ]
    }
   ],
   "source": [
    "settings = many_pynb.setup(target_file, config_paths, )"
   ]
  },
  {
   "cell_type": "code",
   "execution_count": 7,
   "id": "afae9e9e",
   "metadata": {},
   "outputs": [
    {
     "name": "stderr",
     "output_type": "stream",
     "text": [
      "100%|██████████| 5/5 [00:24<00:00,  4.93s/it]\n"
     ]
    }
   ],
   "source": [
    "many_pynb.run(settings)"
   ]
  },
  {
   "cell_type": "markdown",
   "id": "71fd108b",
   "metadata": {},
   "source": [
    "# Run many_pynb with options"
   ]
  },
  {
   "cell_type": "code",
   "execution_count": 8,
   "id": "f0880625",
   "metadata": {},
   "outputs": [
    {
     "name": "stdout",
     "output_type": "stream",
     "text": [
      "# many_pynb settings\n",
      "- target file : nb_output.ipynb\n",
      "- config files :\n",
      "    ./configs/config0.json\n",
      "    ./configs/config1.json\n",
      "    ./configs/config2.json\n",
      "    ./configs/config3.json\n",
      "    ./configs/config4.json\n",
      "- output files:\n",
      "    ./output/uny0.html\n",
      "    ./output/uny1.html\n",
      "    ./output/uny2.html\n",
      "    ./output/uny3.html\n",
      "    ./output/uny4.html\n"
     ]
    }
   ],
   "source": [
    "output_dir = \"./output\"\n",
    "output_file_names = [f\"uny{i}.html\" for i in range(5)]\n",
    "settings = many_pynb.setup(target_file, config_paths, \n",
    "                      output_dir = output_dir, \n",
    "                      output_file_names= output_file_names)"
   ]
  },
  {
   "cell_type": "code",
   "execution_count": 9,
   "id": "e0c0ce0f",
   "metadata": {},
   "outputs": [
    {
     "name": "stderr",
     "output_type": "stream",
     "text": [
      "100%|██████████| 5/5 [00:20<00:00,  4.11s/it]\n"
     ]
    }
   ],
   "source": [
    "many_pynb.run(settings, exclude_code_block=True)"
   ]
  }
 ],
 "metadata": {
  "kernelspec": {
   "display_name": "Python 3",
   "language": "python",
   "name": "python3"
  },
  "language_info": {
   "codemirror_mode": {
    "name": "ipython",
    "version": 3
   },
   "file_extension": ".py",
   "mimetype": "text/x-python",
   "name": "python",
   "nbconvert_exporter": "python",
   "pygments_lexer": "ipython3",
   "version": "3.7.2"
  }
 },
 "nbformat": 4,
 "nbformat_minor": 5
}
