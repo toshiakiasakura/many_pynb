{
 "cells": [
  {
   "cell_type": "code",
   "execution_count": null,
   "id": "267cd4ab",
   "metadata": {},
   "outputs": [],
   "source": [
    "import .many_pynb"
   ]
  },
  {
   "cell_type": "code",
   "execution_count": null,
   "id": "50461207",
   "metadata": {},
   "outputs": [],
   "source": [
    "many_pynb"
   ]
  },
  {
   "cell_type": "code",
   "execution_count": null,
   "id": "9802d41c",
   "metadata": {},
   "outputs": [],
   "source": [
    "a = 1 "
   ]
  },
  {
   "cell_type": "code",
   "execution_count": null,
   "id": "bde60da9",
   "metadata": {},
   "outputs": [],
   "source": []
  }
 ],
 "metadata": {
  "kernelspec": {
   "display_name": "Python 3",
   "language": "python",
   "name": "python3"
  },
  "language_info": {
   "codemirror_mode": {
    "name": "ipython",
    "version": 3
   },
   "file_extension": ".py",
   "mimetype": "text/x-python",
   "name": "python",
   "nbconvert_exporter": "python",
   "pygments_lexer": "ipython3",
   "version": "3.7.2"
  }
 },
 "nbformat": 4,
 "nbformat_minor": 5
}
