{
 "cells": [
  {
   "cell_type": "code",
   "execution_count": 1,
   "id": "ed7e8b92",
   "metadata": {
    "execution": {
     "iopub.execute_input": "2021-05-07T03:53:07.730681Z",
     "iopub.status.busy": "2021-05-07T03:53:07.729142Z",
     "iopub.status.idle": "2021-05-07T03:53:07.743313Z",
     "shell.execute_reply": "2021-05-07T03:53:07.742159Z"
    },
    "papermill": {
     "duration": 0.034554,
     "end_time": "2021-05-07T03:53:07.743582",
     "exception": false,
     "start_time": "2021-05-07T03:53:07.709028",
     "status": "completed"
    },
    "tags": []
   },
   "outputs": [],
   "source": [
    "import many_pynb\n",
    "from IPython.display import HTML"
   ]
  },
  {
   "cell_type": "code",
   "execution_count": 2,
   "id": "25ec6c28",
   "metadata": {
    "execution": {
     "iopub.execute_input": "2021-05-07T03:53:07.778163Z",
     "iopub.status.busy": "2021-05-07T03:53:07.776963Z",
     "iopub.status.idle": "2021-05-07T03:53:07.781983Z",
     "shell.execute_reply": "2021-05-07T03:53:07.780780Z"
    },
    "papermill": {
     "duration": 0.02363,
     "end_time": "2021-05-07T03:53:07.782229",
     "exception": false,
     "start_time": "2021-05-07T03:53:07.758599",
     "status": "completed"
    },
    "tags": []
   },
   "outputs": [],
   "source": [
    "config = many_pynb.read_config()"
   ]
  },
  {
   "cell_type": "code",
   "execution_count": 3,
   "id": "61af8a56",
   "metadata": {
    "execution": {
     "iopub.execute_input": "2021-05-07T03:53:07.820853Z",
     "iopub.status.busy": "2021-05-07T03:53:07.819151Z",
     "iopub.status.idle": "2021-05-07T03:53:07.825097Z",
     "shell.execute_reply": "2021-05-07T03:53:07.826402Z"
    },
    "papermill": {
     "duration": 0.035984,
     "end_time": "2021-05-07T03:53:07.826759",
     "exception": false,
     "start_time": "2021-05-07T03:53:07.790775",
     "status": "completed"
    },
    "tags": []
   },
   "outputs": [
    {
     "data": {
      "text/html": [
       "<h1>Settings 4</h1>"
      ],
      "text/plain": [
       "<IPython.core.display.HTML object>"
      ]
     },
     "execution_count": 3,
     "metadata": {},
     "output_type": "execute_result"
    }
   ],
   "source": [
    "HTML(config[\"title\"])"
   ]
  },
  {
   "cell_type": "code",
   "execution_count": 4,
   "id": "7be5f685",
   "metadata": {
    "execution": {
     "iopub.execute_input": "2021-05-07T03:53:07.852558Z",
     "iopub.status.busy": "2021-05-07T03:53:07.851359Z",
     "iopub.status.idle": "2021-05-07T03:53:07.855899Z",
     "shell.execute_reply": "2021-05-07T03:53:07.856873Z"
    },
    "papermill": {
     "duration": 0.02118,
     "end_time": "2021-05-07T03:53:07.857163",
     "exception": false,
     "start_time": "2021-05-07T03:53:07.835983",
     "status": "completed"
    },
    "tags": []
   },
   "outputs": [
    {
     "name": "stdout",
     "output_type": "stream",
     "text": [
      "Fever Time!!! \n",
      "(」・ω・)」うー!(/・ω・)/にゃー!(」・ω・)」うー!(/・ω・)/にゃー!(」・ω・)」うー!(/・ω・)/にゃー!(」・ω・)」うー!(/・ω・)/にゃー!(」・ω・)」うー!(/・ω・)/にゃー!(」・ω・)」うー!(/・ω・)/にゃー!(」・ω・)」うー!(/・ω・)/にゃー!(」・ω・)」うー!(/・ω・)/にゃー!(」・ω・)」うー!(/・ω・)/にゃー!(」・ω・)」うー!(/・ω・)/にゃー!(」・ω・)」うー!(/・ω・)/にゃー!(」・ω・)」うー!(/・ω・)/にゃー!(」・ω・)」うー!(/・ω・)/にゃー!(」・ω・)」うー!(/・ω・)/にゃー!(」・ω・)」うー!(/・ω・)/にゃー!(」・ω・)」うー!(/・ω・)/にゃー!(」・ω・)」うー!(/・ω・)/にゃー!(」・ω・)」うー!(/・ω・)/にゃー!(」・ω・)」うー!(/・ω・)/にゃー!(」・ω・)」うー!(/・ω・)/にゃー!(」・ω・)」うー!(/・ω・)/にゃー!(」・ω・)」うー!(/・ω・)/にゃー!(」・ω・)」うー!(/・ω・)/にゃー!(」・ω・)」うー!(/・ω・)/にゃー!(」・ω・)」うー!(/・ω・)/にゃー!(」・ω・)」うー!(/・ω・)/にゃー!(」・ω・)」うー!(/・ω・)/にゃー!(」・ω・)」うー!(/・ω・)/にゃー!(」・ω・)」うー!(/・ω・)/にゃー!(」・ω・)」うー!(/・ω・)/にゃー!(」・ω・)」うー!(/・ω・)/にゃー!(」・ω・)」うー!(/・ω・)/にゃー!(」・ω・)」うー!(/・ω・)/にゃー!(」・ω・)」うー!(/・ω・)/にゃー!(」・ω・)」うー!(/・ω・)/にゃー!(」・ω・)」うー!(/・ω・)/にゃー!(」・ω・)」うー!(/・ω・)/にゃー!(」・ω・)」うー!(/・ω・)/にゃー!(」・ω・)」うー!(/・ω・)/にゃー!(」・ω・)」うー!(/・ω・)/にゃー!(」・ω・)」うー!(/・ω・)/にゃー!(」・ω・)」うー!(/・ω・)/にゃー!(」・ω・)」うー!(/・ω・)/にゃー!(」・ω・)」うー!(/・ω・)/にゃー!(」・ω・)」うー!(/・ω・)/にゃー!(」・ω・)」うー!(/・ω・)/にゃー!(」・ω・)」うー!(/・ω・)/にゃー!(」・ω・)」うー!(/・ω・)/にゃー!(」・ω・)」うー!(/・ω・)/にゃー!(」・ω・)」うー!(/・ω・)/にゃー!(」・ω・)」うー!(/・ω・)/にゃー!(」・ω・)」うー!(/・ω・)/にゃー!(」・ω・)」うー!(/・ω・)/にゃー!(」・ω・)」うー!(/・ω・)/にゃー!(」・ω・)」うー!(/・ω・)/にゃー!(」・ω・)」うー!(/・ω・)/にゃー!(」・ω・)」うー!(/・ω・)/にゃー!(」・ω・)」うー!(/・ω・)/にゃー!(」・ω・)」うー!(/・ω・)/にゃー!(」・ω・)」うー!(/・ω・)/にゃー!(」・ω・)」うー!(/・ω・)/にゃー!(」・ω・)」うー!(/・ω・)/にゃー!(」・ω・)」うー!(/・ω・)/にゃー!(」・ω・)」うー!(/・ω・)/にゃー!(」・ω・)」うー!(/・ω・)/にゃー!\n"
     ]
    }
   ],
   "source": [
    "print(\"Fever Time!!! \")\n",
    "print(config[\"text\"])"
   ]
  },
  {
   "cell_type": "code",
   "execution_count": 5,
   "id": "2d1ca969",
   "metadata": {
    "execution": {
     "iopub.execute_input": "2021-05-07T03:53:07.886747Z",
     "iopub.status.busy": "2021-05-07T03:53:07.885535Z",
     "iopub.status.idle": "2021-05-07T03:53:07.888397Z",
     "shell.execute_reply": "2021-05-07T03:53:07.889398Z"
    },
    "papermill": {
     "duration": 0.021813,
     "end_time": "2021-05-07T03:53:07.889686",
     "exception": false,
     "start_time": "2021-05-07T03:53:07.867873",
     "status": "completed"
    },
    "tags": []
   },
   "outputs": [],
   "source": [
    "if config[\"plot\"]:\n",
    "    import matplotlib.pyplot as plt\n",
    "    plt.plot([1,2,3,4,5], [1,4,9,16,25])"
   ]
  }
 ],
 "metadata": {
  "kernelspec": {
   "display_name": "Python 3",
   "language": "python",
   "name": "python3"
  },
  "language_info": {
   "codemirror_mode": {
    "name": "ipython",
    "version": 3
   },
   "file_extension": ".py",
   "mimetype": "text/x-python",
   "name": "python",
   "nbconvert_exporter": "python",
   "pygments_lexer": "ipython3",
   "version": "3.7.2"
  },
  "papermill": {
   "default_parameters": {},
   "duration": 1.689491,
   "end_time": "2021-05-07T03:53:08.213870",
   "environment_variables": {},
   "exception": null,
   "input_path": "nb_output.ipynb",
   "output_path": "nb_output.ipynb",
   "parameters": {},
   "start_time": "2021-05-07T03:53:06.524379",
   "version": "2.3.3"
  }
 },
 "nbformat": 4,
 "nbformat_minor": 5
}